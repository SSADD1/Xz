{
 "cells": [
  {
   "cell_type": "code",
   "execution_count": 1,
   "id": "74c826ef-c27a-4a97-8c58-65e4588e66fb",
   "metadata": {},
   "outputs": [],
   "source": [
    "class binaryTree():\n",
    "\n",
    "    def __init__(self):\n",
    "\n",
    "        self.root = emptyNode()\n",
    "\n",
    "    def __repr__(self):\n",
    "        return repr(self.root)\n",
    "\n",
    "    def insert(self, value):\n",
    "        \"\"\"\n",
    "        Метод вставки элемента в дерево реализуется через метод вставки \n",
    "        элемента в корневую вершину дерева root. При этом атрибут root \n",
    "        переопределяется ссылкой на новый объект для представления корня;\n",
    "        \"\"\"\n",
    "        \n",
    "        self.root = self.root.insert(value)"
   ]
  },
  {
   "cell_type": "code",
   "execution_count": 2,
   "id": "6de454d7-e86c-45f8-84c8-a0780a45b439",
   "metadata": {},
   "outputs": [
    {
     "ename": "NameError",
     "evalue": "name 'emptyNode' is not defined",
     "output_type": "error",
     "traceback": [
      "\u001b[1;31m---------------------------------------------------------------------------\u001b[0m",
      "\u001b[1;31mNameError\u001b[0m                                 Traceback (most recent call last)",
      "Cell \u001b[1;32mIn[2], line 1\u001b[0m\n\u001b[1;32m----> 1\u001b[0m tree \u001b[38;5;241m=\u001b[39m binaryTree()\n",
      "Cell \u001b[1;32mIn[1], line 5\u001b[0m, in \u001b[0;36mbinaryTree.__init__\u001b[1;34m(self)\u001b[0m\n\u001b[0;32m      3\u001b[0m \u001b[38;5;28;01mdef\u001b[39;00m \u001b[38;5;21m__init__\u001b[39m(\u001b[38;5;28mself\u001b[39m):\n\u001b[1;32m----> 5\u001b[0m     \u001b[38;5;28mself\u001b[39m\u001b[38;5;241m.\u001b[39mroot \u001b[38;5;241m=\u001b[39m emptyNode()\n",
      "\u001b[1;31mNameError\u001b[0m: name 'emptyNode' is not defined"
     ]
    }
   ],
   "source": [
    "tree = binaryTree()\n",
    "#Причём, пока что, нельзя создать экземпляр класса binaryTree, потому что не определен класс emptyNode:"
   ]
  },
  {
   "cell_type": "code",
   "execution_count": 3,
   "id": "edaa9244-7975-4520-99f1-2722fd590ccf",
   "metadata": {},
   "outputs": [],
   "source": [
    "class binaryNode():\n",
    "\n",
    "    def __init__(self, left, value, right):\n",
    "\n",
    "        self.left = left\n",
    "\n",
    "        self.value = value\n",
    "\n",
    "        self.right = right\n",
    "\n",
    "    def __repr__(self):\n",
    "        \"\"\"\n",
    "        Возвращаем кортеж вида (left, value, right), где: \n",
    "            left — строковое представления корня левого поддерева;\n",
    "            value — строковое представление значения вершины;\n",
    "            right — строковое представления корня правого поддерева.\n",
    "        \"\"\"\n",
    "        \n",
    "        return f\"({self.left}, {self.value}, {self.right})\"\n",
    "\n",
    "    def insert(self, value):\n",
    "        ..."
   ]
  },
  {
   "cell_type": "code",
   "execution_count": 4,
   "id": "073c11ee-98a7-42da-b50d-febf7566c17c",
   "metadata": {},
   "outputs": [
    {
     "data": {
      "text/plain": [
       "(None, 2, None)"
      ]
     },
     "execution_count": 4,
     "metadata": {},
     "output_type": "execute_result"
    }
   ],
   "source": [
    "test = binaryNode(None, 2, None)\n",
    "\n",
    "test"
   ]
  },
  {
   "cell_type": "code",
   "execution_count": 5,
   "id": "133b824e-022b-444c-915e-ab47c5d6105c",
   "metadata": {},
   "outputs": [],
   "source": [
    "class emptyNode():\n",
    "    \n",
    "    def __repr__(self):\n",
    "\n",
    "        return \"*\"\n",
    "\n",
    "    def insert(self, value):\n",
    "        \"\"\"\n",
    "        Возвращаем новый экземпляр класса binaryNode со значением value.\n",
    "        Левое и правое поддерево определяются ссылками на пустую вершину.\n",
    "        \"\"\"\n",
    "        \n",
    "        return binaryNode(self, value, self)"
   ]
  },
  {
   "cell_type": "code",
   "execution_count": 6,
   "id": "f7baa0f6-020d-4f76-96cc-c8a595200843",
   "metadata": {},
   "outputs": [
    {
     "data": {
      "text/plain": [
       "*"
      ]
     },
     "execution_count": 6,
     "metadata": {},
     "output_type": "execute_result"
    }
   ],
   "source": [
    "test = emptyNode()\n",
    "\n",
    "test"
   ]
  },
  {
   "cell_type": "code",
   "execution_count": 7,
   "id": "2431b850-6fdd-48c2-b7aa-f80a0eb4481d",
   "metadata": {},
   "outputs": [
    {
     "data": {
      "text/plain": [
       "(*, 10, *)"
      ]
     },
     "execution_count": 7,
     "metadata": {},
     "output_type": "execute_result"
    }
   ],
   "source": [
    "tree = binaryTree()\n",
    "tree.insert(10)\n",
    "\n",
    "tree"
   ]
  },
  {
   "cell_type": "code",
   "execution_count": 9,
   "id": "e535ab64-e622-4d89-b6fe-cee57d2abc34",
   "metadata": {},
   "outputs": [],
   "source": [
    "class binaryNode():\n",
    "\n",
    "    def __init__(self, left, value, right):\n",
    "\n",
    "        self.left = left\n",
    "\n",
    "        self.value = value\n",
    "\n",
    "        self.right = right\n",
    "\n",
    "    def __repr__(self):\n",
    "        \"\"\"\n",
    "        Возвращаем кортеж вида (left, value, right), где: \n",
    "            left — строковое представления корня левого поддерева;\n",
    "            value — строковое представление значения вершины;\n",
    "            right — строковое представления корня правого поддерева.\n",
    "        \"\"\"\n",
    "        \n",
    "        return f\"({self.left}, {self.value}, {self.right})\"\n",
    "\n",
    "    def insert(self, value):\n",
    "\n",
    "        if value < self.value:\n",
    "\n",
    "            self.left = self.left.insert(value)\n",
    "\n",
    "        else:\n",
    "\n",
    "            self.right = self.right.insert(value)\n",
    "        return self"
   ]
  },
  {
   "cell_type": "code",
   "execution_count": 10,
   "id": "adf850be-2fcb-4960-860d-73e612b02654",
   "metadata": {},
   "outputs": [
    {
     "name": "stdout",
     "output_type": "stream",
     "text": [
      "Построение бинарого дерева поиска на основе списка: ((*, 1, (*, 3, (*, 4, *))), 5, (*, 10, *))\n",
      "\n",
      "Построение бинарого дерева поиска на основе строки: ((((*, б, *), в, (*, д, *)), е, ((*, е, ((*, й, *), к, *)), л, ((*, н, *), о, (*, о, ((*, о, (*, о, *)), п, *))))), ч, (*, ы, *))\n",
      "\n",
      "Построение бинарого дерева поиска на основе range: (((((*, 2, *), 4, *), 6, *), 8, *), 10, *)\n"
     ]
    }
   ],
   "source": [
    "listData = [5, 1, 10, 3, 4]\n",
    "listTree = binaryTree()\n",
    "for value in listData:\n",
    "    listTree.insert(value)\n",
    "\n",
    "print(f\"Построение бинарого дерева поиска на основе списка: {listTree}\")\n",
    "\n",
    "strData = 'человекоподобный'\n",
    "strTree = binaryTree()\n",
    "for value in strData:\n",
    "    strTree.insert(value)\n",
    "\n",
    "print(f\"\\nПостроение бинарого дерева поиска на основе строки: {strTree}\")\n",
    "\n",
    "rangeTree = binaryTree()\n",
    "for value in range(10, 0, -2):\n",
    "    rangeTree.insert(value)\n",
    "    \n",
    "print(f\"\\nПостроение бинарого дерева поиска на основе range: {rangeTree}\")"
   ]
  },
  {
   "cell_type": "code",
   "execution_count": 11,
   "id": "a2336ba6-1340-4276-86a4-b78ab902f9dc",
   "metadata": {},
   "outputs": [
    {
     "name": "stdout",
     "output_type": "stream",
     "text": [
      "Бинарное дерево поиска example1Tree имеет вид: ((*, 0.0, *), 1.0, ((*, 1.0, *), 2.0, ((*, 4.0, (*, 6.0, (*, 8.0, (*, 10.0, *)))), 23.0, (*, 54.0, (*, 61.0, *)))))\n"
     ]
    }
   ],
   "source": [
    "from numpy import loadtxt\n",
    "\n",
    "example1Tree = binaryTree()\n",
    "for value in loadtxt(\"example1.txt\"):\n",
    "    example1Tree.insert(value)\n",
    "\n",
    "print(f\"Бинарное дерево поиска example1Tree имеет вид: {example1Tree}\")"
   ]
  },
  {
   "cell_type": "code",
   "execution_count": 12,
   "id": "549dc040-c731-4075-b240-aa7f048243a8",
   "metadata": {},
   "outputs": [
    {
     "name": "stdout",
     "output_type": "stream",
     "text": [
      "Бинарное дерево поиска example2Tree имеет вид: ((*, 0.0, *), 1.0, ((*, 1.0, *), 2.0, ((*, 4.0, (*, 6.0, (*, 8.0, (*, 10.0, (*, 21.0, *))))), 23.0, (*, 54.0, (*, 61.0, *)))))\n"
     ]
    }
   ],
   "source": [
    "example2Tree = binaryTree()\n",
    "for value in loadtxt(\"example2.txt\").ravel():\n",
    "    example2Tree.insert(value)\n",
    "\n",
    "print(f\"Бинарное дерево поиска example2Tree имеет вид: {example2Tree}\")"
   ]
  },
  {
   "cell_type": "code",
   "execution_count": 13,
   "id": "2cab15a5-ff26-43db-bf51-fa3fdc2a3e9b",
   "metadata": {},
   "outputs": [
    {
     "name": "stdout",
     "output_type": "stream",
     "text": [
      "Бинарное дерево поиска example3Tree имеет вид: ((*, 0, *), 1, ((*, 1, (*, 1, *)), 2, ((*, 4, (*, 6, (((*, 6, *), 8, *), 10, (*, 21, *)))), 23, ((*, 45, *), 54, (*, 61, ((*, 115, *), 578, *))))))\n"
     ]
    }
   ],
   "source": [
    "example3Tree = binaryTree()\n",
    "with open(\"example3.txt\", 'r', encoding = 'utf-8') as data:\n",
    "    for line in data:\n",
    "        line = list(map(int, line.strip().split()))\n",
    "        for value in line:\n",
    "            example3Tree.insert(value)\n",
    "            \n",
    "print(f\"Бинарное дерево поиска example3Tree имеет вид: {example3Tree}\")"
   ]
  },
  {
   "cell_type": "code",
   "execution_count": 14,
   "id": "0896acca-6359-456d-8052-295325c1ba92",
   "metadata": {},
   "outputs": [
    {
     "name": "stdout",
     "output_type": "stream",
     "text": [
      "Бинарное дерево поиска example41Tree имеет вид: ((*, 0, *), 1, ((*, 1, *), 2, ((*, 3, (*, 3, *)), 5, (((*, 5, *), 10, (*, 12, (*, 21, *))), 63, (*, 112, *)))))\n"
     ]
    }
   ],
   "source": [
    "import json\n",
    "\n",
    "example41Tree = binaryTree()\n",
    "with open(\"example41.json\", 'r') as data:\n",
    "    data = json.load(data)['exampleNumbers']\n",
    "    for value in data:\n",
    "        example41Tree.insert(value)\n",
    "        \n",
    "print(f\"Бинарное дерево поиска example41Tree имеет вид: {example41Tree}\")"
   ]
  },
  {
   "cell_type": "code",
   "execution_count": 15,
   "id": "19052dde-7667-474b-aa4b-30c131de3bbf",
   "metadata": {},
   "outputs": [
    {
     "name": "stdout",
     "output_type": "stream",
     "text": [
      "Бинарное дерево поиска example42Tree имеет вид: ((*, 0, *), 1, ((*, 1, *), 2, ((*, 3, (*, 3, *)), 5, (((*, 5, *), 10, (*, 12, (*, 21, *))), 63, (*, 112, *)))))\n"
     ]
    }
   ],
   "source": [
    "example42Tree = binaryTree()\n",
    "with open(\"example42.json\", 'r') as data:\n",
    "    data = json.load(data)\n",
    "    for value in data:\n",
    "        example42Tree.insert(value)\n",
    "\n",
    "print(f\"Бинарное дерево поиска example42Tree имеет вид: {example42Tree}\")"
   ]
  },
  {
   "cell_type": "code",
   "execution_count": 16,
   "id": "6db4981f-5e56-416a-8ec2-20bf8c8e22e1",
   "metadata": {},
   "outputs": [],
   "source": [
    "class binaryTree():\n",
    "\n",
    "    def __init__(self):\n",
    "\n",
    "        self.root = emptyNode()\n",
    "\n",
    "    def __repr__(self):\n",
    "\n",
    "        return repr(self.root)\n",
    "\n",
    "    def __contains__(self, value):\n",
    "        \"\"\"\n",
    "        Метод __contains__ класса BinaryTree возвращает результат вызова операции\n",
    "        in для корневой вершины;\n",
    "        \"\"\"\n",
    "        \n",
    "        return value in self.root\n",
    "    \n",
    "    def insert(self, value):\n",
    "        \"\"\"\n",
    "        Метод вставки элемента в дерево реализуется через метод вставки \n",
    "        элемента в корневую вершину дерева root. При этом атрибут root \n",
    "        переопределяется ссылкой на новый объект для представления корня;\n",
    "        \"\"\"\n",
    "        \n",
    "        self.root = self.root.insert(value)"
   ]
  },
  {
   "cell_type": "code",
   "execution_count": null,
   "id": "1d6e87e5-b9d8-43ac-a580-cbdda5f53b98",
   "metadata": {},
   "outputs": [],
   "source": [
    "class binaryNode():\n",
    "\n",
    "    def __init__(self, left, value, right):\n",
    "\n",
    "        self.left = left\n",
    "\n",
    "        self.value = value\n",
    "\n",
    "        self.right = right\n",
    "\n",
    "    def __repr__(self):\n",
    "        \"\"\"\n",
    "        Возвращаем кортеж вида (left, value, right), где: \n",
    "            left — строковое представления корня левого поддерева;\n",
    "            value — строковое представление значения вершины;\n",
    "            right — строковое представления корня правого поддерева.\n",
    "        \"\"\"\n",
    "        \n",
    "        return f\"({self.left}, {self.value}, {self.right})\"\n",
    "\n",
    "    def __contains__(self, value):\n",
    "\n",
    "        if value == self.value:\n",
    "            return True\n",
    "\n",
    "        else:\n",
    "\n",
    "            if value < self.value:\n",
    "                return value in self.left\n",
    "\n",
    "            elif value > self.value:\n",
    "                return value in self.right\n",
    "\n",
    "    def insert(self, value):\n",
    "\n",
    "        if value < self.value:\n",
    "\n",
    "            self.left = self.left.insert(value)\n",
    "\n",
    "        else:\n",
    "  \n",
    "            self.right = self.right.insert(value)\n",
    "        return self\n",
    "\n",
    "class emptyNode():\n",
    "    \n",
    "    def __repr__(self):\n",
    "\n",
    "        return \"*\"\n",
    "\n",
    "    def __contains__(self, value):\n",
    "        return False\n",
    "    \n",
    "    def insert(self, value):\n",
    "        \"\"\"\n",
    "        Возвращаем новый экземпляр класса binaryNode со значением value.\n",
    "        Левое и правое поддерево определяются ссылками на пустую вершину.\n",
    "        \"\"\"\n",
    "        \n",
    "        return binaryNode(self, value, self)"
   ]
  },
  {
   "cell_type": "code",
   "execution_count": 19,
   "id": "28798691-49a0-43f0-8b94-d5144be4eef0",
   "metadata": {},
   "outputs": [
    {
     "name": "stdout",
     "output_type": "stream",
     "text": [
      "\u001b[1;31m(0, False)\u001b[0m \u001b[1;32m(1, True)\u001b[0m \u001b[1;31m(2, False)\u001b[0m \u001b[1;32m(3, True)\u001b[0m \u001b[1;32m(4, True)\u001b[0m \u001b[1;32m(5, True)\u001b[0m \u001b[1;31m(6, False)\u001b[0m \u001b[1;31m(7, False)\u001b[0m \u001b[1;31m(8, False)\u001b[0m \u001b[1;31m(9, False)\u001b[0m \u001b[1;32m(10, True)\u001b[0m "
     ]
    }
   ],
   "source": [
    "listData = [5, 1, 10, 3, 4]\n",
    "listTree = binaryTree()\n",
    "for value in listData:\n",
    "    listTree.insert(value)\n",
    "\n",
    "for step in range(11):\n",
    "    if step in listTree:\n",
    "        print(f\"\\033[1;32m({step}, True)\\033[0m\", end = ' ')\n",
    "    else:\n",
    "        print(f\"\\033[1;31m({step}, False)\\033[0m\", end = ' ')"
   ]
  },
  {
   "cell_type": "code",
   "execution_count": 20,
   "id": "4570b8ba-5021-40b3-81b3-5e0b459c8e14",
   "metadata": {},
   "outputs": [
    {
     "name": "stdout",
     "output_type": "stream",
     "text": [
      "\u001b[1;31m(а, False)\u001b[0m \u001b[1;32m(б, True)\u001b[0m \u001b[1;32m(в, True)\u001b[0m \u001b[1;31m(г, False)\u001b[0m \u001b[1;32m(д, True)\u001b[0m "
     ]
    }
   ],
   "source": [
    "strData = 'трактор'\n",
    "strTree = binaryTree()\n",
    "for value in strData:\n",
    "    strTree.insert(value)\n",
    "\n",
    "testStr = 'арлвц'\n",
    "for step in testStr:\n",
    "    if step in strTree:\n",
    "        print(f\"\\033[1;32m({step}, True)\\033[0m\", end = ' ')\n",
    "    else:\n",
    "        print(f\"\\033[1;31m({step}, False)\\033[0m\", end = ' ')"
   ]
  },
  {
   "cell_type": "code",
   "execution_count": 21,
   "id": "d7c7d2b5-7ab7-4966-a1b2-607868510c7f",
   "metadata": {},
   "outputs": [
    {
     "name": "stdout",
     "output_type": "stream",
     "text": [
      "\u001b[1;31m(0, False)\u001b[0m \u001b[1;31m(3, False)\u001b[0m \u001b[1;31m(5, False)\u001b[0m \u001b[1;32m(8, True)\u001b[0m "
     ]
    }
   ],
   "source": [
    "rangeTree = binaryTree()\n",
    "for value in range(10, 0, -2):\n",
    "    rangeTree.insert(value)\n",
    "\n",
    "testList = [0, 3, 5, 8]\n",
    "for step in testList:\n",
    "    if step in rangeTree:\n",
    "        print(f\"\\033[1;32m({step}, True)\\033[0m\", end = ' ')\n",
    "    else:\n",
    "        print(f\"\\033[1;31m({step}, False)\\033[0m\", end = ' ')"
   ]
  },
  {
   "cell_type": "code",
   "execution_count": 22,
   "id": "2293085a-7faa-488e-8d11-399b2c5932f1",
   "metadata": {},
   "outputs": [],
   "source": [
    "class binaryTree():\n",
    "\n",
    "    def __init__(self):\n",
    "        \"\"\"\n",
    "        Инициализируем атрибут numbOfNodes класса binaryNodes, который\n",
    "        будем использовать в дальнейшем как счётчик количества созданных\n",
    "        экземпляров класса.\n",
    "        \"\"\"\n",
    "        binaryNode.numbOfNodes = 0\n",
    "\n",
    "        self.root = emptyNode()\n",
    "\n",
    "    def __repr__(self):\n",
    "\n",
    "        return repr(self.root)\n",
    "\n",
    "    def __contains__(self, value):\n",
    "        \"\"\"\n",
    "        Метод __contains__ класса BinaryTree возвращает результат вызова операции\n",
    "        in для корневой вершины;\n",
    "        \"\"\"\n",
    "        \n",
    "        return value in self.root\n",
    "\n",
    "    def __len__(self):\n",
    "        return len(self.root)\n",
    "\n",
    "    def insert(self, value):\n",
    "        \"\"\"\n",
    "        Метод вставки элемента в дерево реализуется через метод вставки \n",
    "        элемента в корневую вершину дерева root. При этом атрибут root \n",
    "        переопределяется ссылкой на новый объект для представления корня;\n",
    "        \"\"\"\n",
    "        \n",
    "        self.root = self.root.insert(value)"
   ]
  },
  {
   "cell_type": "code",
   "execution_count": 23,
   "id": "896e1872-c66e-4af9-944b-e0502685931f",
   "metadata": {},
   "outputs": [],
   "source": [
    "class binaryNode():\n",
    "\n",
    "    def __init__(self, left, value, right):\n",
    "\n",
    "        self.left = left\n",
    "\n",
    "        self.value = value\n",
    "\n",
    "        self.right = right\n",
    "\n",
    "        binaryNode.numbOfNodes += 1\n",
    "\n",
    "    def __repr__(self):\n",
    "        \"\"\"\n",
    "        Возвращаем кортеж вида (left, value, right), где: \n",
    "            left — строковое представления корня левого поддерева;\n",
    "            value — строковое представление значения вершины;\n",
    "            right — строковое представления корня правого поддерева.\n",
    "        \"\"\"\n",
    "        \n",
    "        return f\"({self.left}, {self.value}, {self.right})\"\n",
    "\n",
    "    def __contains__(self, value):\n",
    "\n",
    "        if value == self.value:\n",
    "            return True\n",
    "\n",
    "        else:\n",
    "\n",
    "            if value < self.value:\n",
    "                return value in self.left\n",
    "\n",
    "            elif value > self.value:\n",
    "                return value in self.right\n",
    "\n",
    "    \"\"\"\n",
    "    Метод __len__ класса BinaryNode возвращает значение атрибута numberOfNodes\n",
    "    класса BinaryNode, который используется как счетчик созданных экземпляров \n",
    "    класса BinaryNode.\n",
    "    \"\"\"\n",
    "    def __len__(self):\n",
    "        return self.numbOfNodes\n",
    "\n",
    "    def insert(self, value):\n",
    "        if value < self.value:\n",
    "            self.left = self.left.insert(value)\n",
    "        else:\n",
    "\n",
    "            self.right = self.right.insert(value)\n",
    "        return self"
   ]
  },
  {
   "cell_type": "code",
   "execution_count": 24,
   "id": "48e0f6da-aa16-46ea-a4f2-20934548d100",
   "metadata": {},
   "outputs": [],
   "source": [
    "class emptyNode():\n",
    "\n",
    "    def __repr__(self):\n",
    "\n",
    "        return \"*\"\n",
    "\n",
    "    def __contains__(self, value):\n",
    "        return False\n",
    "\n",
    "    def __len__(self):\n",
    "        return 0\n",
    "\n",
    "    def insert(self, value):\n",
    "        \"\"\"\n",
    "        Возвращаем новый экземпляр класса binaryNode со значением value.\n",
    "        Левое и правое поддерево определяются ссылками на пустую вершину.\n",
    "        \"\"\"\n",
    "        \n",
    "        return binaryNode(self, value, self)"
   ]
  },
  {
   "cell_type": "code",
   "execution_count": 25,
   "id": "cdc8147e-7797-44a9-ad50-8f8c84c98fcf",
   "metadata": {},
   "outputs": [
    {
     "data": {
      "text/plain": [
       "5"
      ]
     },
     "execution_count": 25,
     "metadata": {},
     "output_type": "execute_result"
    }
   ],
   "source": [
    "listData = [5, 1, 10, 3, 4]\n",
    "listTree = binaryTree()\n",
    "for value in listData:\n",
    "    listTree.insert(value)\n",
    "\n",
    "len(listTree)"
   ]
  },
  {
   "cell_type": "code",
   "execution_count": 27,
   "id": "1b90fd06-b306-4e68-a539-217d69d8b9d0",
   "metadata": {},
   "outputs": [
    {
     "data": {
      "text/plain": [
       "7"
      ]
     },
     "execution_count": 27,
     "metadata": {},
     "output_type": "execute_result"
    }
   ],
   "source": [
    "strData = 'трактор'\n",
    "strTree = binaryTree()\n",
    "for value in strData:\n",
    "    strTree.insert(value)\n",
    "\n",
    "len(strTree)"
   ]
  },
  {
   "cell_type": "code",
   "execution_count": 29,
   "id": "3a3353c4-bcb0-481e-b534-7d51cc949234",
   "metadata": {},
   "outputs": [
    {
     "data": {
      "text/plain": [
       "6"
      ]
     },
     "execution_count": 29,
     "metadata": {},
     "output_type": "execute_result"
    }
   ],
   "source": [
    "rangeTree = binaryTree()\n",
    "for value in range(15, -3, -3):\n",
    "    rangeTree.insert(value)\n",
    "\n",
    "len(rangeTree)"
   ]
  },
  {
   "cell_type": "code",
   "execution_count": null,
   "id": "fcf966ba-b82a-4abe-ae63-90d5f8bd1212",
   "metadata": {},
   "outputs": [],
   "source": []
  }
 ],
 "metadata": {
  "kernelspec": {
   "display_name": "Python [conda env:base] *",
   "language": "python",
   "name": "conda-base-py"
  },
  "language_info": {
   "codemirror_mode": {
    "name": "ipython",
    "version": 3
   },
   "file_extension": ".py",
   "mimetype": "text/x-python",
   "name": "python",
   "nbconvert_exporter": "python",
   "pygments_lexer": "ipython3",
   "version": "3.12.7"
  }
 },
 "nbformat": 4,
 "nbformat_minor": 5
}
