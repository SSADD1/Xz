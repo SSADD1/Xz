{
 "cells": [
  {
   "cell_type": "code",
   "execution_count": 1,
   "id": "7924d94c-5379-42b6-a5bf-adaac72c4c4f",
   "metadata": {},
   "outputs": [
    {
     "data": {
      "text/html": [
       "<style>h1 {\n",
       "  background-color: #e5f4ff;\n",
       "  padding: 10px;\n",
       "  font-family: 'Times New Roman', Times, serif;\n",
       "  font-weight: bold !important;\n",
       "  text-align: center;\n",
       "  margin-bottom: 20px;\n",
       "  line-height: 1.5;\n",
       "  font-size: 28px !important;\n",
       "  color: #007AC0\n",
       "}\n",
       "\n",
       "h2, h3, h4, h5, h6 {\n",
       "  color: #EC7600;\n",
       "  background-color: #FFECD9;\n",
       "  padding: 10px;\n",
       "  font-family: 'Times New Roman', Times, serif;\n",
       "  font-weight: bold !important;\n",
       "  text-align: center;\n",
       "  margin-bottom: 24px;\n",
       "  line-height: 1.5;\n",
       "  font-size: 24px !important;\n",
       "}\n",
       "\n",
       "p, ol {\n",
       "  font-family: 'Times New Roman', Times, serif;\n",
       "  font-size: 20px;\n",
       "  text-align: justify;\n",
       "  line-height: 1.5;\n",
       "}\n",
       "\n",
       "code {\n",
       "  font-family: \"JetBrains Mono\", monospace !important;\n",
       "  font-size: 16px;\n",
       "}\n",
       "</style>"
      ],
      "text/plain": [
       "<IPython.core.display.HTML object>"
      ]
     },
     "metadata": {},
     "output_type": "display_data"
    }
   ],
   "source": [
    "from IPython.display import display, HTML\n",
    "display(HTML(\"<style>\" + open(\"customs.css\").read() + \"</style>\"))\n",
    "\n",
    "%config IPCompleter.greedy = True"
   ]
  },
  {
   "cell_type": "code",
   "execution_count": 2,
   "id": "b58e49a2-16ed-4620-99bc-4cc80d876948",
   "metadata": {},
   "outputs": [
    {
     "ename": "RecursionError",
     "evalue": "maximum recursion depth exceeded",
     "output_type": "error",
     "traceback": [
      "\u001b[1;31m---------------------------------------------------------------------------\u001b[0m",
      "\u001b[1;31mRecursionError\u001b[0m                            Traceback (most recent call last)",
      "Cell \u001b[1;32mIn[2], line 3\u001b[0m\n\u001b[0;32m      1\u001b[0m \u001b[38;5;28;01mdef\u001b[39;00m \u001b[38;5;21mrecursive\u001b[39m():\n\u001b[0;32m      2\u001b[0m     recursive()\n\u001b[1;32m----> 3\u001b[0m recursive()\n",
      "Cell \u001b[1;32mIn[2], line 2\u001b[0m, in \u001b[0;36mrecursive\u001b[1;34m()\u001b[0m\n\u001b[0;32m      1\u001b[0m \u001b[38;5;28;01mdef\u001b[39;00m \u001b[38;5;21mrecursive\u001b[39m():\n\u001b[1;32m----> 2\u001b[0m     recursive()\n",
      "Cell \u001b[1;32mIn[2], line 2\u001b[0m, in \u001b[0;36mrecursive\u001b[1;34m()\u001b[0m\n\u001b[0;32m      1\u001b[0m \u001b[38;5;28;01mdef\u001b[39;00m \u001b[38;5;21mrecursive\u001b[39m():\n\u001b[1;32m----> 2\u001b[0m     recursive()\n",
      "    \u001b[1;31m[... skipping similar frames: recursive at line 2 (2974 times)]\u001b[0m\n",
      "Cell \u001b[1;32mIn[2], line 2\u001b[0m, in \u001b[0;36mrecursive\u001b[1;34m()\u001b[0m\n\u001b[0;32m      1\u001b[0m \u001b[38;5;28;01mdef\u001b[39;00m \u001b[38;5;21mrecursive\u001b[39m():\n\u001b[1;32m----> 2\u001b[0m     recursive()\n",
      "\u001b[1;31mRecursionError\u001b[0m: maximum recursion depth exceeded"
     ]
    }
   ],
   "source": [
    "#Пример ошибки\n",
    "def recursive():\n",
    "    recursive()\n",
    "recursive()"
   ]
  },
  {
   "cell_type": "code",
   "execution_count": 3,
   "id": "5d0ce9c1-838b-46d4-84e4-2555a3260fbe",
   "metadata": {},
   "outputs": [
    {
     "data": {
      "text/plain": [
       "3000"
      ]
     },
     "execution_count": 3,
     "metadata": {},
     "output_type": "execute_result"
    }
   ],
   "source": [
    "import sys\n",
    "sys.getrecursionlimit()"
   ]
  },
  {
   "cell_type": "code",
   "execution_count": 4,
   "id": "5eefaa69-b4db-4277-bb10-86d8873f0ec9",
   "metadata": {},
   "outputs": [
    {
     "data": {
      "text/plain": [
       "(0, 3, 55)"
      ]
     },
     "execution_count": 4,
     "metadata": {},
     "output_type": "execute_result"
    }
   ],
   "source": [
    "def dRecSum(number):\n",
    "    \"\"\" Сумма числа 0 до n >= 0 \"\"\"\n",
    "    match number:\n",
    "        case 0: return number\n",
    "        case _: return number + dRecSum(number - 1)\n",
    "dRecSum(0), dRecSum(2), dRecSum(10)"
   ]
  },
  {
   "cell_type": "code",
   "execution_count": 5,
   "id": "9e0f5611-411c-404a-bde4-f5f4b500bb07",
   "metadata": {},
   "outputs": [
    {
     "data": {
      "text/plain": [
       "(0, 3, 55)"
      ]
     },
     "execution_count": 5,
     "metadata": {},
     "output_type": "execute_result"
    }
   ],
   "source": [
    "lRecSum = lambda number: number + lRecSum(number - 1) if number else number\n",
    "lRecSum(0), lRecSum(2), lRecSum(10)"
   ]
  },
  {
   "cell_type": "code",
   "execution_count": 6,
   "id": "85940045-b206-4867-a1a8-44d483981fd9",
   "metadata": {},
   "outputs": [],
   "source": [
    "itList = [[1],[2,[3]],[[[[[4]]]]],5,6,7]"
   ]
  },
  {
   "cell_type": "code",
   "execution_count": 7,
   "id": "b1f48445-d343-40da-bd60-02c2627296d6",
   "metadata": {},
   "outputs": [
    {
     "data": {
      "text/plain": [
       "\u001b[1;31mSignature:\u001b[0m \u001b[0misinstance\u001b[0m\u001b[1;33m(\u001b[0m\u001b[0mobj\u001b[0m\u001b[1;33m,\u001b[0m \u001b[0mclass_or_tuple\u001b[0m\u001b[1;33m,\u001b[0m \u001b[1;33m/\u001b[0m\u001b[1;33m)\u001b[0m\u001b[1;33m\u001b[0m\u001b[1;33m\u001b[0m\u001b[0m\n",
       "\u001b[1;31mDocstring:\u001b[0m\n",
       "Return whether an object is an instance of a class or of a subclass thereof.\n",
       "\n",
       "A tuple, as in ``isinstance(x, (A, B, ...))``, may be given as the target to\n",
       "check against. This is equivalent to ``isinstance(x, A) or isinstance(x, B)\n",
       "or ...`` etc.\n",
       "\u001b[1;31mType:\u001b[0m      builtin_function_or_method"
      ]
     },
     "metadata": {},
     "output_type": "display_data"
    }
   ],
   "source": [
    "?isinstance"
   ]
  },
  {
   "cell_type": "code",
   "execution_count": 8,
   "id": "b1a486d8-7d8e-441b-9ec0-68b3612a5db4",
   "metadata": {},
   "outputs": [
    {
     "data": {
      "text/plain": [
       "[1, 2, 3, 4, 5, 6, 7]"
      ]
     },
     "execution_count": 8,
     "metadata": {},
     "output_type": "execute_result"
    }
   ],
   "source": [
    "def flattenListV1(nestedObj: list) -> list:\n",
    "    # Создаем список в который будет добавлять элементы \n",
    "    # исходного списка, без сохранения структуры;\n",
    "    result = []\n",
    "\n",
    "    # Проверяем объект: является ли он списком ?;\n",
    "    if isinstance(nestedObj, list):\n",
    "        # Если да, то проходим по каждому элементу списка;\n",
    "        for item in nestedObj:\n",
    "            # Рекурсивно обрабатываем каждый item списка и добавляем в result;\n",
    "            result += flattenListV1(item)\n",
    "    else:\n",
    "        # В ином случае добавляем в result, nestedObj;\n",
    "        result += [nestedObj]\n",
    "\n",
    "    # Возвращаем список с результатом выполнения функции;\n",
    "    return result\n",
    "\n",
    "flattenListV1(itList)"
   ]
  },
  {
   "cell_type": "code",
   "execution_count": 13,
   "id": "1ab755b1-14e4-45d7-99d6-1abd3f623bb6",
   "metadata": {},
   "outputs": [
    {
     "data": {
      "text/plain": [
       "[1, 2, 3, 4, 5, 6, 7]"
      ]
     },
     "execution_count": 13,
     "metadata": {},
     "output_type": "execute_result"
    }
   ],
   "source": [
    "def flattenListV2(nestedObj: list):\n",
    "    # Проверяем, является nestedObj списком;\n",
    "    if isinstance(nestedObj, list):\n",
    "        # Итерируемся по каждому элементу списка nestedObj;\n",
    "        for iItem in nestedObj:\n",
    "            # Рекурсивно обрабатываем каждый элемент;\n",
    "            for jItem in flattenListV2(iItem):\n",
    "                yield jItem\n",
    "    else:\n",
    "        # Если элемент не список, возвращаем его;\n",
    "        yield nestedObj\n",
    "\n",
    "[elem for elem in flattenListV2(itList)]"
   ]
  },
  {
   "cell_type": "code",
   "execution_count": 16,
   "id": "30abdae6-4c62-4b2a-84fd-756bdf799e0f",
   "metadata": {},
   "outputs": [
    {
     "data": {
      "text/plain": [
       "[1, 2, 3, 4, 5, 6, 7]"
      ]
     },
     "execution_count": 16,
     "metadata": {},
     "output_type": "execute_result"
    }
   ],
   "source": [
    "def flattenListV2(nestedObj: list):\n",
    "    # Проверяем, является nestedObj списком;\n",
    "    if isinstance(nestedObj, list):\n",
    "        # Итерируемся по каждому элементу списка nestedObj;\n",
    "        for item in nestedObj:\n",
    "            # Рекурсивно раскрываем вложенные структуры;\n",
    "            yield from flattenListV2(item)\n",
    "    else:\n",
    "        # Возвращаем конечный элемент;\n",
    "        yield nestedObj\n",
    "\n",
    "[elem for elem in flattenListV2(itList)]"
   ]
  },
  {
   "cell_type": "code",
   "execution_count": 30,
   "id": "489ca867-dbec-4780-96be-ef05cf4f0323",
   "metadata": {},
   "outputs": [],
   "source": [
    "def flattenList(nestedObj: list, gen: bool = False):\n",
    "    \"Hello guys! Its workinkg!\"\n",
    "\n",
    "    def flattenListV1(nestedObj: list) -> list:\n",
    "        result = []\n",
    "        if isinstance(nestedObj, list):\n",
    "            for item in nestedObj:\n",
    "                result += flattenListV1(item)\n",
    "        else:\n",
    "            result += [nestedObj]\n",
    "            \n",
    "        return result\n",
    "\n",
    "\n",
    "    def flattenListV2(nestedObj: list):\n",
    "        if isinstance(nestedObj, list):\n",
    "            for item in nestedObj:\n",
    "                yield from flattenListV2(item)\n",
    "        else:\n",
    "            yield nestedObj\n",
    "\n",
    "    genDict = {\"True\": flattenListV2,\n",
    "              \"False\": flattenListV1}\n",
    "\n",
    "    return genDict[str(gen)](nestedObj)"
   ]
  },
  {
   "cell_type": "code",
   "execution_count": 31,
   "id": "1b10e6a9-ca03-40ae-8ec8-68ef5ba7c59d",
   "metadata": {},
   "outputs": [
    {
     "name": "stdout",
     "output_type": "stream",
     "text": [
      "Hello guys! Its workinkg!"
     ]
    }
   ],
   "source": [
    "print(flattenList.__doc__, end = \"\")"
   ]
  },
  {
   "cell_type": "code",
   "execution_count": 19,
   "id": "acbe059b-19f4-42f1-accb-36d8acb50796",
   "metadata": {},
   "outputs": [
    {
     "name": "stdout",
     "output_type": "stream",
     "text": [
      "Пример вызова функции flattenList для [[[1]], 2, [5], [[[[3]]]], 1], если gen не указан [1, 2, 5, 3, 1]\n",
      "\n",
      "Пример вызова функции flattenList для [[[1]], 2, [5], [[[[3]]]], 1], если gen = False не указан [1, 2, 5, 3, 1]\n",
      "\n",
      "Пример вызова функции flattenList для [[[1]], 2, [5], [[[[3]]]], 1], если gen = True <generator object flattenList.<locals>.flattenListV2 at 0x000001AFF1ACE500>\n"
     ]
    }
   ],
   "source": [
    "exList = [[[1]], 2, [5], [[[[3]]]], 1]\n",
    "print(f\"Пример вызова функции flattenList для {exList}, если gen не указан {flattenList(exList)}\\n\")\n",
    "\n",
    "print(f\"Пример вызова функции flattenList для {exList}, если gen = False не указан {flattenList(exList, gen = False)}\\n\")\n",
    "\n",
    "print(f\"Пример вызова функции flattenList для {exList}, если gen = True {flattenList(exList, True)}\")"
   ]
  },
  {
   "cell_type": "code",
   "execution_count": 20,
   "id": "f455de71-1bb5-4a46-b9c7-accb2bfb2c71",
   "metadata": {},
   "outputs": [
    {
     "data": {
      "text/plain": [
       "[1, 2, 5, 3, 1]"
      ]
     },
     "execution_count": 20,
     "metadata": {},
     "output_type": "execute_result"
    }
   ],
   "source": [
    "[elem for elem in flattenList(exList, True)]"
   ]
  },
  {
   "cell_type": "code",
   "execution_count": 21,
   "id": "6e6c2957-b054-4e1c-9ee3-e4e76a844848",
   "metadata": {},
   "outputs": [],
   "source": [
    "itList \n",
    "\n",
    "itTuple = (((7), (8)), (9), 10)\n",
    "\n",
    "itStr = \"abcdefgh\"\n",
    "\n",
    "itDict = {\"key1\": 11, \"key2\": {\"key3\": 12}}\n",
    ";\n",
    "itGen = ([step, step ** 2, step ** 3] for step in range(5))\n",
    "\n",
    "itFile = open(\"flattenFile.txt\")"
   ]
  },
  {
   "cell_type": "code",
   "execution_count": 22,
   "id": "6b914a46-6076-47e7-9ebd-52503062be4b",
   "metadata": {},
   "outputs": [],
   "source": [
    "it = [itList, itTuple, itStr, itDict, itGen, itFile]"
   ]
  },
  {
   "cell_type": "code",
   "execution_count": 23,
   "id": "a0a0b394-40af-464a-9378-f67e928d2193",
   "metadata": {},
   "outputs": [
    {
     "data": {
      "text/plain": [
       "[True, True, True, True, True, True]"
      ]
     },
     "execution_count": 23,
     "metadata": {},
     "output_type": "execute_result"
    }
   ],
   "source": [
    "['__iter__' in dir(_) for _ in it]"
   ]
  },
  {
   "cell_type": "code",
   "execution_count": 24,
   "id": "ddbd7d89-3b35-4914-a62a-ca6057591b8c",
   "metadata": {},
   "outputs": [
    {
     "data": {
      "text/plain": [
       "[True, True, True, True, True, True]"
      ]
     },
     "execution_count": 24,
     "metadata": {},
     "output_type": "execute_result"
    }
   ],
   "source": [
    "[hasattr(_, '__iter__') for _ in it]"
   ]
  },
  {
   "cell_type": "code",
   "execution_count": 25,
   "id": "878597b7-71f4-42e8-a7e2-4f051d238de2",
   "metadata": {},
   "outputs": [
    {
     "data": {
      "text/plain": [
       "\u001b[1;31mSignature:\u001b[0m \u001b[0mhasattr\u001b[0m\u001b[1;33m(\u001b[0m\u001b[0mobj\u001b[0m\u001b[1;33m,\u001b[0m \u001b[0mname\u001b[0m\u001b[1;33m,\u001b[0m \u001b[1;33m/\u001b[0m\u001b[1;33m)\u001b[0m\u001b[1;33m\u001b[0m\u001b[1;33m\u001b[0m\u001b[0m\n",
       "\u001b[1;31mDocstring:\u001b[0m\n",
       "Return whether the object has an attribute with the given name.\n",
       "\n",
       "This is done by calling getattr(obj, name) and catching AttributeError.\n",
       "\u001b[1;31mType:\u001b[0m      builtin_function_or_method"
      ]
     },
     "metadata": {},
     "output_type": "display_data"
    }
   ],
   "source": [
    "?hasattr"
   ]
  },
  {
   "cell_type": "code",
   "execution_count": 26,
   "id": "8b176a21-1a52-4046-9fa1-8c41cb598e82",
   "metadata": {},
   "outputs": [
    {
     "data": {
      "text/plain": [
       "[1,\n",
       " 2,\n",
       " 3,\n",
       " 4,\n",
       " 5,\n",
       " 6,\n",
       " 7,\n",
       " 7,\n",
       " 8,\n",
       " 9,\n",
       " 10,\n",
       " 'abcdefgh',\n",
       " 'key1',\n",
       " 11,\n",
       " 'key2',\n",
       " 'key3',\n",
       " 12,\n",
       " 0,\n",
       " 0,\n",
       " 0,\n",
       " 1,\n",
       " 1,\n",
       " 1,\n",
       " 2,\n",
       " 4,\n",
       " 8,\n",
       " 3,\n",
       " 9,\n",
       " 27,\n",
       " 4,\n",
       " 16,\n",
       " 64,\n",
       " 'Sed ut perspiciatis unde omnis iste natus error sit voluptatem accusantium doloremque laudantium, totam rem aperiam, eaque ipsa quae ab illo inventore \\n',\n",
       " 'veritatis et quasi architecto beatae vitae dicta sunt explicabo. Nemo enim ipsam voluptatem quia voluptas sit aspernatur aut odit aut fugit, sed quia \\n',\n",
       " 'consequuntur magni dolores eos qui ratione voluptatem sequi nesciunt. Neque porro quisquam est, qui dolorem ipsum quia dolor sit amet, consectetur, \\n',\n",
       " 'adipisci velit, sed quia non numquam eius modi tempora incidunt ut labore et dolore magnam aliquam quaerat voluptatem. Ut enim ad minima veniam, quis \\n',\n",
       " 'nostrum exercitationem ullam corporis suscipit laboriosam, nisi ut aliquid ex ea commodi consequatur? Quis autem vel eum iure reprehenderit qui in ea \\n',\n",
       " 'voluptate velit esse quam nihil molestiae consequatur, vel illum qui dolorem eum fugiat quo voluptas nulla pariatur?']"
      ]
     },
     "execution_count": 26,
     "metadata": {},
     "output_type": "execute_result"
    }
   ],
   "source": [
    "def flattenItV1(nestedObj):\n",
    "    result = []\n",
    "\n",
    "    if hasattr(nestedObj, \"__iter__\") and not isinstance(nestedObj, str):\n",
    "\n",
    "        if isinstance(nestedObj, dict):\n",
    "\n",
    "            for dictItem in nestedObj.items():\n",
    "                result += flattenItV1(dictItem) # Рекурсия;\n",
    "        else:\n",
    "            for item in nestedObj:\n",
    "                result += flattenItV1(item)\n",
    "    else:\n",
    "        result += [nestedObj]\n",
    "\n",
    "    return result\n",
    "\n",
    "flattenItV1(it)"
   ]
  },
  {
   "cell_type": "code",
   "execution_count": 27,
   "id": "8b515465-6355-409b-90f7-35ff10f200d7",
   "metadata": {},
   "outputs": [
    {
     "data": {
      "text/plain": [
       "[1, 2, 3, 4, 5, 6, 7, 7, 8, 9, 10, 'abcdefgh', 'key1', 11, 'key2', 'key3', 12]"
      ]
     },
     "execution_count": 27,
     "metadata": {},
     "output_type": "execute_result"
    }
   ],
   "source": [
    "def flattenItV2(nestedObj):\n",
    "    result = []\n",
    "\n",
    "    if hasattr(nestedObj, \"__iter__\") and not isinstance(nestedObj, str):\n",
    "\n",
    "        if isinstance(nestedObj, dict):\n",
    "\n",
    "            for dictItem in nestedObj.items():\n",
    "                yield from flattenItV2(dictItem)\n",
    "        else:\n",
    "\n",
    "            for item in nestedObj:\n",
    "                yield from flattenItV2(item)\n",
    "    else:\n",
    "        yield nestedObj\n",
    "\n",
    "[elem for elem in flattenItV2(it)]"
   ]
  },
  {
   "cell_type": "code",
   "execution_count": 28,
   "id": "a32d154d-5913-4db0-be54-4554a97724b0",
   "metadata": {},
   "outputs": [],
   "source": [
    "def flattenIt(nestedObj, gen: bool = False):\n",
    "\n",
    "    \"\"\"\n",
    "    Рекурсивно преобразует вложенные итерируемые объекты в одномерную структуру.\n",
    "    \n",
    "    Поддерживает обработку списков, словарей, кортежей и других iterable-объектов,\n",
    "    исключая строки (они обрабатываются как атомарные элементы).\n",
    "\n",
    "    Параметры:\n",
    "        nestedObj: Any\n",
    "            Вложенная структура данных произвольной сложности.\n",
    "            Может содержать комбинации списков, словарей и других итерируемых объектов.\n",
    "        gen: bool, optional (default=False)\n",
    "            Флаг определения формата вывода (подробнее в пункте \"Возвращает\")\n",
    "\n",
    "    Возвращает:\n",
    "        list или generator:\n",
    "            1) При gen = False: одномерный список всех элементов;\n",
    "            2) При gen = True: генератор элементов.\n",
    "    \"\"\"\n",
    "\n",
    "\n",
    "    def flattenItV1(nestedObj):\n",
    "        result = []\n",
    "        if hasattr(nestedObj, \"__iter__\") and not isinstance(nestedObj, str):\n",
    "            if isinstance(nestedObj, dict):\n",
    "                for dictItem in nestedObj.items():\n",
    "                    result += flattenItV1(dictItem)\n",
    "            else:\n",
    "                for item in nestedObj:\n",
    "                    result += flattenItV1(item)\n",
    "        else:\n",
    "            result += [nestedObj]\n",
    "    \n",
    "        return result\n",
    "\n",
    "\n",
    "    def flattenItV2(nestedObj):\n",
    "        result = []\n",
    "        if hasattr(nestedObj, \"__iter__\") and not isinstance(nestedObj, str):\n",
    "            if isinstance(nestedObj, dict):\n",
    "                for dictItem in nestedObj.items():\n",
    "                    yield from flattenItV2(dictItem)\n",
    "            else:\n",
    "                for item in nestedObj:\n",
    "                    yield from flattenItV2(item)\n",
    "        else:\n",
    "            yield nestedObj\n",
    "\n",
    "\n",
    "    genDict = {\"True\": flattenItV2,\n",
    "              \"False\": flattenItV1\n",
    "              }\n",
    "\n",
    "    return genDict[str(gen)](nestedObj)"
   ]
  },
  {
   "cell_type": "code",
   "execution_count": 29,
   "id": "23de819b-a664-482e-9ca8-8d88f6f69be9",
   "metadata": {},
   "outputs": [
    {
     "name": "stdout",
     "output_type": "stream",
     "text": [
      "\n",
      "    Рекурсивно преобразует вложенные итерируемые объекты в одномерную структуру.\n",
      "    \n",
      "    Поддерживает обработку списков, словарей, кортежей и других iterable-объектов,\n",
      "    исключая строки (они обрабатываются как атомарные элементы).\n",
      "\n",
      "    Параметры:\n",
      "        nestedObj: Any\n",
      "            Вложенная структура данных произвольной сложности.\n",
      "            Может содержать комбинации списков, словарей и других итерируемых объектов.\n",
      "        gen: bool, optional (default=False)\n",
      "            Флаг определения формата вывода (подробнее в пункте \"Возвращает\")\n",
      "\n",
      "    Возвращает:\n",
      "        list или generator:\n",
      "            1) При gen = False: одномерный список всех элементов;\n",
      "            2) При gen = True: генератор элементов.\n",
      "    "
     ]
    }
   ],
   "source": [
    "print(flattenIt.__doc__, end = \"\")"
   ]
  },
  {
   "cell_type": "code",
   "execution_count": 32,
   "id": "2b2b8c21-6b5d-4fb7-92cf-5c7b5c7ab529",
   "metadata": {},
   "outputs": [
    {
     "name": "stdout",
     "output_type": "stream",
     "text": [
      "Пример вызова функции flattenList для [[[1]], 2, [5], [[[[3]]]], 1], если gen не указан [1, 2, 5, 1, 'apple', 3, 1, 'affdgd']\n",
      "\n",
      "Пример вызова функции flattenList для [[[1]], 2, [5], [[[[3]]]], 1], если gen = False не указан ['apple', 'banana', 1, 2, 'key1', 3, 4]\n",
      "\n",
      "Пример вызова функции flattenList для [[[1]], 2, [5], [[[[3]]]], 1], если gen = True: <generator object flattenIt.<locals>.flattenItV2 at 0x000001AFF28B7B50> — как мы видим функция вернула генераторный объект. Выведем его элементы: [0, 1, 3, 6, 10, 15, 21, 28, 36, 45]\n"
     ]
    }
   ],
   "source": [
    "ex1 = [[[1]], 2, [5], (1, (\"apple\")), [[[[3]]]], 1, \"affdgd\"]\n",
    "print(f\"Пример вызова функции flattenList для {exList}, если gen не указан {flattenIt(ex1)}\\n\")\n",
    "\n",
    "# Пример №2;\n",
    "ex2 = {\"apple\": {\"banana\": (1, 2)}, \"key1\": [3, 4]}\n",
    "print(f\"Пример вызова функции flattenList для {exList}, если gen = False не указан {flattenIt(ex2, gen = False)}\\n\")\n",
    "\n",
    "# Пример №3;\n",
    "ex3 = [lRecSum(number) for number in range(10)]\n",
    "print(f\"Пример вызова функции flattenList для {exList}, если gen = True: {flattenIt(ex3, True)} — \" +\n",
    "      f\"как мы видим функция вернула генераторный объект. Выведем его элементы: {[_ for _ in flattenIt(ex3, True)]}\")"
   ]
  },
  {
   "cell_type": "code",
   "execution_count": 33,
   "id": "1c95ce59-afe6-4118-97e7-c10effd772d1",
   "metadata": {},
   "outputs": [],
   "source": [
    "itListCyclic = itList[:]\n",
    "itListCyclic.append(itListCyclic)"
   ]
  },
  {
   "cell_type": "code",
   "execution_count": 34,
   "id": "8e52212a-c52e-42cf-a85f-799722d384e7",
   "metadata": {},
   "outputs": [
    {
     "data": {
      "text/plain": [
       "[[1], [2, [3]], [[[[[4]]]]], 5, 6, 7, [...]]"
      ]
     },
     "execution_count": 34,
     "metadata": {},
     "output_type": "execute_result"
    }
   ],
   "source": [
    "itListCyclic"
   ]
  },
  {
   "cell_type": "code",
   "execution_count": 35,
   "id": "5546ba5a-0cce-4393-9ef5-1acdb8579be6",
   "metadata": {},
   "outputs": [],
   "source": [
    "def flattenListV1(nestedObj):\n",
    "    result = []\n",
    "    if isinstance(nestedObj, list):\n",
    "        for item in nestedObj:\n",
    "            if item is nestedObj:\n",
    "                raise ValueError(\"Cyclic list is found\")\n",
    "            else:\n",
    "                result += flattenListV1(item)\n",
    "    else:\n",
    "        result += [nestedObj]\n",
    "    \n",
    "    return result"
   ]
  },
  {
   "cell_type": "code",
   "execution_count": 36,
   "id": "410b9eeb-be13-4579-9cad-fbacc765b76c",
   "metadata": {},
   "outputs": [
    {
     "data": {
      "text/plain": [
       "[1, 2, 3, 4, 5, 6, 7]"
      ]
     },
     "execution_count": 36,
     "metadata": {},
     "output_type": "execute_result"
    }
   ],
   "source": [
    "flattenListV1(itList)\n",
    "#Cyclicobject"
   ]
  },
  {
   "cell_type": "code",
   "execution_count": null,
   "id": "42d2c843-c1df-4035-9fde-24f4de5b0a27",
   "metadata": {},
   "outputs": [],
   "source": [
    "flattenListV1(itListCyclic)"
   ]
  }
 ],
 "metadata": {
  "kernelspec": {
   "display_name": "Python [conda env:base] *",
   "language": "python",
   "name": "conda-base-py"
  },
  "language_info": {
   "codemirror_mode": {
    "name": "ipython",
    "version": 3
   },
   "file_extension": ".py",
   "mimetype": "text/x-python",
   "name": "python",
   "nbconvert_exporter": "python",
   "pygments_lexer": "ipython3",
   "version": "3.12.7"
  }
 },
 "nbformat": 4,
 "nbformat_minor": 5
}
