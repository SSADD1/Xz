{
  "metadata": {
    "kernelspec": {
      "name": "python",
      "display_name": "Python (Pyodide)",
      "language": "python"
    },
    "language_info": {
      "codemirror_mode": {
        "name": "ipython",
        "version": 3
      },
      "file_extension": ".py",
      "mimetype": "text/x-python",
      "name": "python",
      "nbconvert_exporter": "python",
      "pygments_lexer": "ipython3",
      "version": "3.11.7"
    }
  },
  "nbformat_minor": 5,
  "nbformat": 4,
  "cells": [
    {
      "id": "bdbd2fb1-fedd-4c74-9e52-8c18b753e82d",
      "cell_type": "markdown",
      "source": "Задание 1.1",
      "metadata": {}
    },
    {
      "id": "59ea7dca-837d-47b7-995c-c3481069ca2c",
      "cell_type": "code",
      "source": "import math\nmath.sin(math.pi/2)",
      "metadata": {
        "trusted": true
      },
      "outputs": [],
      "execution_count": null
    },
    {
      "id": "6a080552-37b7-4f33-b1a3-b136a4d91b45",
      "cell_type": "code",
      "source": "import numpy as np",
      "metadata": {
        "trusted": true
      },
      "outputs": [],
      "execution_count": null
    },
    {
      "id": "b24dc7fa-6af3-48c3-8fbe-a67c44b56bed",
      "cell_type": "code",
      "source": "import matplotlib.pyplot as plt",
      "metadata": {
        "trusted": true
      },
      "outputs": [],
      "execution_count": null
    },
    {
      "id": "7715afb0-23f7-410a-9375-4802253c275e",
      "cell_type": "code",
      "source": "import scipy.constants as const",
      "metadata": {
        "trusted": true
      },
      "outputs": [],
      "execution_count": null
    },
    {
      "id": "e51a345f-63f3-47b3-b8f6-17e36f189c93",
      "cell_type": "code",
      "source": "import sympy",
      "metadata": {
        "trusted": true
      },
      "outputs": [],
      "execution_count": null
    },
    {
      "id": "97eb8ccf-31d1-4ea1-ba76-660d7baa0818",
      "cell_type": "code",
      "source": "h_start = 1\nh_end = 3.0E+0\nT = 3.0\ns_end = 5.0e0",
      "metadata": {
        "trusted": true
      },
      "outputs": [],
      "execution_count": null
    },
    {
      "id": "ee419ece-0eb9-4bd2-9b48-e26f6630dd99",
      "cell_type": "code",
      "source": "h_start\nh_end",
      "metadata": {
        "trusted": true
      },
      "outputs": [],
      "execution_count": null
    },
    {
      "id": "987ead75-ee78-472e-8558-620d6c4f286b",
      "cell_type": "code",
      "source": "print(h_start, h_end)",
      "metadata": {
        "trusted": true
      },
      "outputs": [],
      "execution_count": null
    },
    {
      "id": "8ad8fdaa-5cf5-46d4-af4c-afd90183fb3d",
      "cell_type": "code",
      "source": "g = const.g\ng, const.unit(standart acceleration of gravity)",
      "metadata": {
        "trusted": true
      },
      "outputs": [],
      "execution_count": null
    },
    {
      "id": "f3430e13-8626-4dec-8431-2038cd167fdb",
      "cell_type": "code",
      "source": "step = 0.01\nt_list = [0 + i*step for i in range(int(T/0.01))]\nt_array = np.arange(0,T,step)",
      "metadata": {
        "trusted": true
      },
      "outputs": [],
      "execution_count": null
    },
    {
      "id": "d442ee82-7e6a-4f5c-b132-4a27eff6e0bb",
      "cell_type": "code",
      "source": "#?range",
      "metadata": {
        "trusted": true
      },
      "outputs": [],
      "execution_count": null
    },
    {
      "id": "2f23b8ed-039b-40a4-ac16-3e0366e89d05",
      "cell_type": "code",
      "source": "#?np.arange",
      "metadata": {
        "trusted": true
      },
      "outputs": [],
      "execution_count": null
    },
    {
      "id": "555f04e0-afe1-4276-a5a3-9140831d01c1",
      "cell_type": "code",
      "source": "v0_x = s_end/T\nv0_x",
      "metadata": {
        "trusted": true
      },
      "outputs": [],
      "execution_count": null
    },
    {
      "id": "7c6da805-e48e-4691-9454-d76061184bde",
      "cell_type": "code",
      "source": "v0_y = (h_end-h_start+g/2*T**2)/T\nv0_y",
      "metadata": {
        "trusted": true
      },
      "outputs": [],
      "execution_count": null
    },
    {
      "id": "032db580-0324-4f36-9d1c-743aa8543203",
      "cell_type": "code",
      "source": "alpha = math.atan(v0_y/v0_x)\nalpha, math.degrees(alpha)",
      "metadata": {
        "trusted": true
      },
      "outputs": [],
      "execution_count": null
    },
    {
      "id": "b7553732-0d85-4e45-8813-7e811fa2825c",
      "cell_type": "code",
      "source": "f's_x(t) = {v0_x} t'",
      "metadata": {
        "trusted": true
      },
      "outputs": [],
      "execution_count": null
    },
    {
      "id": "4952a964-39ef-46b1-ac63-87561625e773",
      "cell_type": "code",
      "source": "f's_y(t) = {h_start} + {v0_y:.6} t - {g:.6}/2*t\\N{superscript two}'",
      "metadata": {
        "trusted": true
      },
      "outputs": [],
      "execution_count": null
    },
    {
      "id": "cd2781df-8ad7-470e-83bc-b5cb8cd9355e",
      "cell_type": "code",
      "source": "t_list, t_array; #",
      "metadata": {
        "trusted": true
      },
      "outputs": [],
      "execution_count": null
    },
    {
      "id": "ddfd3e62-a6f9-4c73-b38b-c254726a5364",
      "cell_type": "code",
      "source": "s_x_list = [v0_x*t for t in t_list]\ns_y_list = [h_start+v0_y*t-g*t**2/2 for t in t_list]",
      "metadata": {
        "trusted": true
      },
      "outputs": [],
      "execution_count": null
    },
    {
      "id": "6a29883c-b35b-498b-a8f8-fb3a9c497042",
      "cell_type": "code",
      "source": "s_x_array = v0_x*t_array\ns_y_array = h_start+v0_y*t_array-g*t_array**2/2",
      "metadata": {
        "trusted": true
      },
      "outputs": [],
      "execution_count": null
    },
    {
      "id": "4faceecd-52b9-4f49-aba5-b8929a17e8f6",
      "cell_type": "code",
      "source": "plt.figure()\nplt.plot(s_x_list,s_y_list,'b-',lw=5)\nplt.title('Вертикальное перемещение тела')\nplt.xlabel('x (m)'); plt.ylabel('y (m)') # символ ; позволяет записывать несколь\nplt.axis([0, s_end, 0, h_end+11])\n",
      "metadata": {
        "trusted": true
      },
      "outputs": [],
      "execution_count": null
    },
    {
      "id": "68fe6a1b-987c-4f83-b293-3105f972c201",
      "cell_type": "code",
      "source": "plt.figure()\nplt.plot(s_x_array,s_y_array,color='green',lw=3)\nplt.title('Вертикальное перемещение тела')\nplt.xlabel('x (m)'); plt.ylabel('y (m)')\nplt.xlim(0, s_end)\nplt.ylim(0, h_end+11);",
      "metadata": {
        "trusted": true
      },
      "outputs": [],
      "execution_count": null
    },
    {
      "id": "a251de0c-7ad6-4c59-a40a-631d20b9a97e",
      "cell_type": "code",
      "source": "Задание 1.2",
      "metadata": {
        "trusted": true
      },
      "outputs": [],
      "execution_count": null
    },
    {
      "id": "e74bcaf1-4e1e-4354-9acc-ef79546131b0",
      "cell_type": "code",
      "source": " t = sympy.symbols('t')\n result = sympy.solve(h_start+v0_y*t-g*t**2/2, t)\n result",
      "metadata": {
        "trusted": true
      },
      "outputs": [],
      "execution_count": null
    },
    {
      "id": "673b8f84-1950-4b5d-acc1-438d124d847a",
      "cell_type": "code",
      "source": "t_star_exact = result[-1]\n t_star_exact",
      "metadata": {
        "trusted": true
      },
      "outputs": [],
      "execution_count": null
    },
    {
      "id": "ce6859db-c4c7-4b67-bc36-d12435d5148b",
      "cell_type": "code",
      "source": "# ?sympy.solve",
      "metadata": {
        "trusted": true
      },
      "outputs": [],
      "execution_count": null
    },
    {
      "id": "6672e159-dee1-4e26-bc80-861b49a31462",
      "cell_type": "code",
      "source": "Задание 1.3",
      "metadata": {
        "trusted": true
      },
      "outputs": [],
      "execution_count": null
    },
    {
      "id": "5af2e083-4411-441f-9706-28c2d0dec686",
      "cell_type": "code",
      "source": "p_start = np.array([s_x_array[0],s_y_array[0]])\n p_end = np.array([s_x_array[-1],s_y_array[-1]])\n p_start, p_end",
      "metadata": {
        "trusted": true
      },
      "outputs": [],
      "execution_count": null
    },
    {
      "id": "45d4a531-6434-4973-991d-f8ab58c14ea0",
      "cell_type": "code",
      "source": "a = p_end-p_start",
      "metadata": {
        "trusted": true
      },
      "outputs": [],
      "execution_count": null
    },
    {
      "id": "2186b6a2-fe1e-41ed-9af6-d04ca28442a6",
      "cell_type": "code",
      "source": "p = [p_start + a*t for t in [-1, 2]] \np = np.array(p)",
      "metadata": {
        "trusted": true
      },
      "outputs": [],
      "execution_count": null
    },
    {
      "id": "209f97fe-e328-4397-be12-0a340778d994",
      "cell_type": "code",
      "source": "fig = plt.figure()\n plt.plot(s_x_array,s_y_array,'b-',lw=5)\n plt.plot(p[:,0],p[:,1],'--',color='red',lw=1) # обратите внимание не специальную\n plt.xlabel('x (m)'); plt.ylabel('y (m)')\n plt.axis([-5, s_end+5, 0, h_end+11]);",
      "metadata": {
        "trusted": true
      },
      "outputs": [],
      "execution_count": null
    },
    {
      "id": "980e1dd8-ddb3-4281-85c6-68be5855a83d",
      "cell_type": "code",
      "source": "Задание 1.4",
      "metadata": {
        "trusted": true
      },
      "outputs": [],
      "execution_count": null
    },
    {
      "id": "6520cc13-74a4-48cf-a547-b8b957c924d1",
      "cell_type": "code",
      "source": "",
      "metadata": {
        "trusted": true
      },
      "outputs": [],
      "execution_count": null
    }
  ]
}