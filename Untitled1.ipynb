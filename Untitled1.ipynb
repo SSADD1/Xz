{
 "cells": [
  {
   "cell_type": "markdown",
   "id": "bdbd2fb1-fedd-4c74-9e52-8c18b753e82d",
   "metadata": {},
   "source": [
    "Задание 1.1"
   ]
  },
  {
   "cell_type": "code",
   "execution_count": 23,
   "id": "59ea7dca-837d-47b7-995c-c3481069ca2c",
   "metadata": {},
   "outputs": [
    {
     "data": {
      "text/plain": [
       "1.0"
      ]
     },
     "execution_count": 23,
     "metadata": {},
     "output_type": "execute_result"
    }
   ],
   "source": [
    "import math\n",
    "math.sin(math.pi/2)"
   ]
  },
  {
   "cell_type": "code",
   "execution_count": 39,
   "id": "6a080552-37b7-4f33-b1a3-b136a4d91b45",
   "metadata": {},
   "outputs": [],
   "source": [
    "import numpy as np"
   ]
  },
  {
   "cell_type": "code",
   "execution_count": 40,
   "id": "b24dc7fa-6af3-48c3-8fbe-a67c44b56bed",
   "metadata": {},
   "outputs": [],
   "source": [
    "import matplotlib.pyplot as plt"
   ]
  },
  {
   "cell_type": "code",
   "execution_count": 41,
   "id": "7715afb0-23f7-410a-9375-4802253c275e",
   "metadata": {},
   "outputs": [],
   "source": [
    "import scipy.constants as const"
   ]
  },
  {
   "cell_type": "code",
   "execution_count": 42,
   "id": "e51a345f-63f3-47b3-b8f6-17e36f189c93",
   "metadata": {},
   "outputs": [],
   "source": [
    "import sympy"
   ]
  },
  {
   "cell_type": "code",
   "execution_count": 45,
   "id": "97eb8ccf-31d1-4ea1-ba76-660d7baa0818",
   "metadata": {},
   "outputs": [],
   "source": [
    "h_start = 1\n",
    "h_end = 3.0E+0\n",
    "T = 3.0\n",
    "s_end = 5.0e0"
   ]
  },
  {
   "cell_type": "code",
   "execution_count": 46,
   "id": "ee419ece-0eb9-4bd2-9b48-e26f6630dd99",
   "metadata": {},
   "outputs": [
    {
     "data": {
      "text/plain": [
       "3.0"
      ]
     },
     "execution_count": 46,
     "metadata": {},
     "output_type": "execute_result"
    }
   ],
   "source": [
    "h_start\n",
    "h_end"
   ]
  },
  {
   "cell_type": "code",
   "execution_count": 47,
   "id": "987ead75-ee78-472e-8558-620d6c4f286b",
   "metadata": {},
   "outputs": [
    {
     "name": "stdout",
     "output_type": "stream",
     "text": [
      "1 3.0\n"
     ]
    }
   ],
   "source": [
    "print(h_start, h_end)"
   ]
  },
  {
   "cell_type": "code",
   "execution_count": 63,
   "id": "8ad8fdaa-5cf5-46d4-af4c-afd90183fb3d",
   "metadata": {},
   "outputs": [
    {
     "ename": "SyntaxError",
     "evalue": "invalid syntax. Perhaps you forgot a comma? (3959127218.py, line 2)",
     "output_type": "error",
     "traceback": [
      "\u001b[1;36m  Cell \u001b[1;32mIn[63], line 2\u001b[1;36m\u001b[0m\n\u001b[1;33m    g, const.unit(standart acceleration of gravity)\u001b[0m\n\u001b[1;37m                  ^\u001b[0m\n\u001b[1;31mSyntaxError\u001b[0m\u001b[1;31m:\u001b[0m invalid syntax. Perhaps you forgot a comma?\n"
     ]
    }
   ],
   "source": [
    "g = const.g\n",
    "g, const.unit(standart acceleration of gravity)"
   ]
  },
  {
   "cell_type": "code",
   "execution_count": 49,
   "id": "f3430e13-8626-4dec-8431-2038cd167fdb",
   "metadata": {},
   "outputs": [],
   "source": [
    "step = 0.01\n",
    "t_list = [0 + i*step for i in range(int(T/0.01))]\n",
    "t_array = np.arange(0,T,step)"
   ]
  },
  {
   "cell_type": "code",
   "execution_count": 50,
   "id": "d442ee82-7e6a-4f5c-b132-4a27eff6e0bb",
   "metadata": {},
   "outputs": [],
   "source": [
    "#?range"
   ]
  },
  {
   "cell_type": "code",
   "execution_count": 51,
   "id": "2f23b8ed-039b-40a4-ac16-3e0366e89d05",
   "metadata": {},
   "outputs": [],
   "source": [
    "#?np.arange"
   ]
  },
  {
   "cell_type": "code",
   "execution_count": 52,
   "id": "555f04e0-afe1-4276-a5a3-9140831d01c1",
   "metadata": {},
   "outputs": [
    {
     "data": {
      "text/plain": [
       "1.6666666666666667"
      ]
     },
     "execution_count": 52,
     "metadata": {},
     "output_type": "execute_result"
    }
   ],
   "source": [
    "v0_x = s_end/T\n",
    "v0_x"
   ]
  },
  {
   "cell_type": "code",
   "execution_count": 53,
   "id": "7c6da805-e48e-4691-9454-d76061184bde",
   "metadata": {},
   "outputs": [
    {
     "data": {
      "text/plain": [
       "15.376641666666666"
      ]
     },
     "execution_count": 53,
     "metadata": {},
     "output_type": "execute_result"
    }
   ],
   "source": [
    "v0_y = (h_end-h_start+g/2*T**2)/T\n",
    "v0_y"
   ]
  },
  {
   "cell_type": "code",
   "execution_count": 54,
   "id": "032db580-0324-4f36-9d1c-743aa8543203",
   "metadata": {},
   "outputs": [
    {
     "data": {
      "text/plain": [
       "(1.462828312588189, 83.81388846354714)"
      ]
     },
     "execution_count": 54,
     "metadata": {},
     "output_type": "execute_result"
    }
   ],
   "source": [
    "alpha = math.atan(v0_y/v0_x)\n",
    "alpha, math.degrees(alpha)"
   ]
  },
  {
   "cell_type": "code",
   "execution_count": 55,
   "id": "b7553732-0d85-4e45-8813-7e811fa2825c",
   "metadata": {},
   "outputs": [
    {
     "data": {
      "text/plain": [
       "'s_x(t) = 1.6666666666666667 t'"
      ]
     },
     "execution_count": 55,
     "metadata": {},
     "output_type": "execute_result"
    }
   ],
   "source": [
    "f's_x(t) = {v0_x} t'"
   ]
  },
  {
   "cell_type": "code",
   "execution_count": 56,
   "id": "4952a964-39ef-46b1-ac63-87561625e773",
   "metadata": {},
   "outputs": [
    {
     "data": {
      "text/plain": [
       "'s_y(t) = 1 + 15.3766 t - 9.80665/2*t²'"
      ]
     },
     "execution_count": 56,
     "metadata": {},
     "output_type": "execute_result"
    }
   ],
   "source": [
    "f's_y(t) = {h_start} + {v0_y:.6} t - {g:.6}/2*t\\N{superscript two}'"
   ]
  },
  {
   "cell_type": "code",
   "execution_count": 58,
   "id": "cd2781df-8ad7-470e-83bc-b5cb8cd9355e",
   "metadata": {},
   "outputs": [],
   "source": [
    "t_list, t_array; #"
   ]
  },
  {
   "cell_type": "code",
   "execution_count": 59,
   "id": "ddfd3e62-a6f9-4c73-b38b-c254726a5364",
   "metadata": {},
   "outputs": [],
   "source": [
    "s_x_list = [v0_x*t for t in t_list]\n",
    "s_y_list = [h_start+v0_y*t-g*t**2/2 for t in t_list]"
   ]
  },
  {
   "cell_type": "code",
   "execution_count": 60,
   "id": "6a29883c-b35b-498b-a8f8-fb3a9c497042",
   "metadata": {},
   "outputs": [],
   "source": [
    "s_x_array = v0_x*t_array\n",
    "s_y_array = h_start+v0_y*t_array-g*t_array**2/2"
   ]
  },
  {
   "cell_type": "code",
   "execution_count": 61,
   "id": "4faceecd-52b9-4f49-aba5-b8929a17e8f6",
   "metadata": {},
   "outputs": [
    {
     "data": {
      "text/plain": [
       "(0.0, 5.0, 0.0, 14.0)"
      ]
     },
     "execution_count": 61,
     "metadata": {},
     "output_type": "execute_result"
    },
    {
     "data": {
      "image/png": "[encoded data removed]",
      "text/plain": [
       "<Figure size 640x480 with 1 Axes>"
      ]
     },
     "metadata": {},
     "output_type": "display_data"
    }
   ],
   "source": [
    "plt.figure()\n",
    "plt.plot(s_x_list,s_y_list,'b-',lw=5)\n",
    "plt.title('Вертикальное перемещение тела')\n",
    "plt.xlabel('x (m)'); plt.ylabel('y (m)') # символ ; позволяет записывать несколь\n",
    "plt.axis([0, s_end, 0, h_end+11])\n"
   ]
  },
  {
   "cell_type": "code",
   "execution_count": 62,
   "id": "68fe6a1b-987c-4f83-b293-3105f972c201",
   "metadata": {},
   "outputs": [
    {
     "data": {
      "image/png": "[encoded data removed]",
      "text/plain": [
       "<Figure size 640x480 with 1 Axes>"
      ]
     },
     "metadata": {},
     "output_type": "display_data"
    }
   ],
   "source": [
    "plt.figure()\n",
    "plt.plot(s_x_array,s_y_array,color='green',lw=3)\n",
    "plt.title('Вертикальное перемещение тела')\n",
    "plt.xlabel('x (m)'); plt.ylabel('y (m)')\n",
    "plt.xlim(0, s_end)\n",
    "plt.ylim(0, h_end+11);"
   ]
  },
  {
   "cell_type": "code",
   "execution_count": null,
   "id": "a251de0c-7ad6-4c59-a40a-631d20b9a97e",
   "metadata": {},
   "outputs": [],
   "source": []
  }
 ],
 "metadata": {
  "kernelspec": {
   "display_name": "Python 3 (ipykernel)",
   "language": "python",
   "name": "python3"
  },
  "language_info": {
   "codemirror_mode": {
    "name": "ipython",
    "version": 3
   },
   "file_extension": ".py",
   "mimetype": "text/x-python",
   "name": "python",
   "nbconvert_exporter": "python",
   "pygments_lexer": "ipython3",
   "version": "3.11.7"
  }
 },
 "nbformat": 4,
 "nbformat_minor": 5
}
