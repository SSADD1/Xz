{
 "cells": [
  {
   "cell_type": "code",
   "execution_count": 39,
   "id": "3f599b4a-313e-4acf-b5b9-1ca819bf74ff",
   "metadata": {},
   "outputs": [],
   "source": [
    "import random"
   ]
  },
  {
   "cell_type": "code",
   "execution_count": 5,
   "id": "a2061f88-5d83-4e39-ade3-4f8c7ea694cd",
   "metadata": {},
   "outputs": [
    {
     "data": {
      "text/plain": [
       "'Код символа: 105, символ: i'"
      ]
     },
     "execution_count": 5,
     "metadata": {},
     "output_type": "execute_result"
    }
   ],
   "source": [
    " latin_code = (ord('a'), ord('z')) # соответствует type_symbols = 'latin'\n",
    " f'Код символа: {(c:=randint(*latin_code))}, символ: {chr(c)}'"
   ]
  },
  {
   "cell_type": "code",
   "execution_count": 40,
   "id": "3c3334c7-7e97-42b2-b98d-67c9110d7136",
   "metadata": {},
   "outputs": [],
   "source": [
    "import time"
   ]
  },
  {
   "cell_type": "code",
   "execution_count": 8,
   "id": "bd6e556b-5382-4993-b490-e8d77f87dc2c",
   "metadata": {},
   "outputs": [
    {
     "name": "stdout",
     "output_type": "stream",
     "text": [
      "0.015625 секунд\n"
     ]
    }
   ],
   "source": [
    " start = process_time()\n",
    " [x**2 for x in range(1_000_000)]\n",
    " end = process_time()\n",
    " print(f'{end - start} секунд')"
   ]
  },
  {
   "cell_type": "code",
   "execution_count": 9,
   "id": "edaf3982-d382-458e-bcfb-ed7a15583f5f",
   "metadata": {},
   "outputs": [],
   "source": [
    " file_name = 'test.txt'\n",
    " f = open(file_name, 'w')"
   ]
  },
  {
   "cell_type": "code",
   "execution_count": 10,
   "id": "622c2c18-b2b2-4a93-922f-d9ff7e4405d7",
   "metadata": {},
   "outputs": [
    {
     "data": {
      "text/plain": [
       "['t\\n', 'e\\n', 's\\n', 't\\n']"
      ]
     },
     "execution_count": 10,
     "metadata": {},
     "output_type": "execute_result"
    }
   ],
   "source": [
    " lines_list = [f'{x}\\n' for x in 'test']\n",
    " lines_list"
   ]
  },
  {
   "cell_type": "code",
   "execution_count": 11,
   "id": "10d5d01f-52ae-4ab6-a767-9c8f38b88e9e",
   "metadata": {},
   "outputs": [],
   "source": [
    "f.writelines(lines_list)"
   ]
  },
  {
   "cell_type": "code",
   "execution_count": 12,
   "id": "3247c084-e033-45b8-8b63-66b570960004",
   "metadata": {},
   "outputs": [],
   "source": [
    "f.close()"
   ]
  },
  {
   "cell_type": "code",
   "execution_count": 13,
   "id": "054760a7-d89d-4560-9603-f8f0d9c81478",
   "metadata": {},
   "outputs": [
    {
     "name": "stdout",
     "output_type": "stream",
     "text": [
      "t\n",
      "e\n",
      "s\n",
      "t\n"
     ]
    }
   ],
   "source": [
    "with open(file_name,'r') as f:\n",
    "    for line in f:\n",
    "        print(line, end='')"
   ]
  },
  {
   "cell_type": "code",
   "execution_count": 14,
   "id": "2b879981-28e4-4f1d-94f9-d1410eb2a6c3",
   "metadata": {},
   "outputs": [],
   "source": [
    " lines_gen_expr = (f'{x}\\n' for x in range(10**6)) \n",
    "def lines_gen_fun(number_lines=10**6): \n",
    "    yield from (f'{x}\\n' for x in range(number_lines))\n",
    " with open(file_name,'w') as f:\n",
    "    f.writelines(lines_gen_expr)\n",
    "    f.writelines(lines_gen_fun())"
   ]
  },
  {
   "cell_type": "code",
   "execution_count": 15,
   "id": "4b65ab1d-5d99-44d0-88a5-5b1fac28927e",
   "metadata": {},
   "outputs": [
    {
     "name": "stdout",
     "output_type": "stream",
     "text": [
      "6.569757461547852 Mb\n"
     ]
    }
   ],
   "source": [
    " def lines_gen_fun(number_lines = 10**6):\n",
    "    file_size = 0                 \n",
    "    for x in range(number_lines):\n",
    "        line = f'{x}\\n'\n",
    "        yield line\n",
    "        file_size += len(line) \n",
    "    print(f'{file_size/1024**2} Mb')\n",
    "        \n",
    "with open(file_name,'w') as f:\n",
    "    f.writelines(lines_gen_fun())"
   ]
  },
  {
   "cell_type": "code",
   "execution_count": 16,
   "id": "9c96210d-abb6-49b1-a0e5-16d900fa9df8",
   "metadata": {},
   "outputs": [
    {
     "data": {
      "text/plain": [
       "(1, 1, 1, 2)"
      ]
     },
     "execution_count": 16,
     "metadata": {},
     "output_type": "execute_result"
    }
   ],
   "source": [
    " len('f'), len('f'.encode('utf8')), len('ц'), len('ц'.encode('utf8'))"
   ]
  },
  {
   "cell_type": "code",
   "execution_count": 17,
   "id": "8708f354-1a2f-4c5a-b1af-ad790d0854c2",
   "metadata": {},
   "outputs": [
    {
     "name": "stdout",
     "output_type": "stream",
     "text": [
      "6.569757461547852 Mb\n",
      "0.203125 секунд\n"
     ]
    }
   ],
   "source": [
    " with open(file_name,'w') as f:\n",
    "    start = process_time()\n",
    "    f.writelines(lines_gen_fun())\n",
    "    end = process_time()\n",
    "    print(end - start, 'секунд')"
   ]
  },
  {
   "cell_type": "code",
   "execution_count": 18,
   "id": "2215b3dd-5a3b-4cb1-8306-aaecc7e466be",
   "metadata": {},
   "outputs": [],
   "source": [
    "def lines_gen_fun(number_lines=10**6, status=False): \n",
    "    file_size = 0                 \n",
    "    for x in range(number_lines):\n",
    "        line = f'{x}\\n'\n",
    "        yield line\n",
    "        file_size += len(line) \n",
    "        # отображение статуса записи в файл в процентах\n",
    "        if status:\n",
    "            status_number = x/number_lines*100\n",
    "            # \\r возврат курсора в начало строки для перезаписи\n",
    "            print(f'\\r{int(status_number)}%', end='', flush=True) \n",
    "    print(f'\\n {file_size/1024**2} Mb')"
   ]
  },
  {
   "cell_type": "code",
   "execution_count": 21,
   "id": "07b790be-35e2-44da-8f0d-9f3727ff8e71",
   "metadata": {},
   "outputs": [],
   "source": [
    " latin_code = (ord('a'), ord('z')) # соответствует type_symbols = 'latin'\n",
    " number_words = (10, 20)\n",
    " number_symbols = (5, 10)"
   ]
  },
  {
   "cell_type": "code",
   "execution_count": 22,
   "id": "eef4774f-56e9-49c7-83ab-7c49773feb87",
   "metadata": {},
   "outputs": [
    {
     "data": {
      "text/plain": [
       "'frmdbdp'"
      ]
     },
     "execution_count": 22,
     "metadata": {},
     "output_type": "execute_result"
    }
   ],
   "source": [
    "len_word = randint(*number_symbols)            \n",
    "word = ''.join([chr(randint(*latin_code)) for i in range(len_word)])\n",
    "word"
   ]
  },
  {
   "cell_type": "code",
   "execution_count": 26,
   "id": "f95efee0-3910-4420-a8b6-1742c7fc7e31",
   "metadata": {},
   "outputs": [
    {
     "name": "stdout",
     "output_type": "stream",
     "text": [
      "syrakcx 8087692 унляьйд\n"
     ]
    }
   ],
   "source": [
    "\n",
    "latin_code = (ord('a'), ord('z'))\n",
    "digits = (ord('0'), ord('9'))\n",
    "cyrillic_code = (ord('а'), ord('я'))\n",
    "char_sets = [latin_code, digits, cyrillic_code]\n",
    "number_words = (10, 20)\n",
    "number_symbols = (5, 10)\n",
    "len_word = randint(*number_symbols)            \n",
    "word = ''.join([chr(randint(*latin_code)) for i in range(len_word)])\n",
    "word1 = ''.join([chr(randint(*digits)) for i in range(len_word)])\n",
    "word2 = ''.join([chr(randint(*cyrillic_code)) for i in range(len_word)])\n",
    "print(word, word1, word2)"
   ]
  },
  {
   "cell_type": "code",
   "execution_count": 41,
   "id": "3feeacee-f39a-4fa6-9af5-d56320218fc8",
   "metadata": {},
   "outputs": [],
   "source": [
    "import string\n",
    "\n",
    "def lines_gen_fun_v2(file_size, type_symbols, number_words, number_symbols, status=False):\n",
    "    \"\"\"\n",
    "    Генератор строк, суммарный размер которых в мегабайтах равен file_size.\n",
    "\n",
    "    Аргументы:\n",
    "        file_size (float): Целевой размер генерируемых данных в мегабайтах.\n",
    "        type_symbols (str): Строка, содержащая символы для генерации слов.\n",
    "        number_words (int): Количество слов в каждой генерируемой строке.\n",
    "        number_symbols (int): Количество символов в каждом генерируемом слове.\n",
    "        status (bool, optional): Если True, будет отображаться статус выполнения. По умолчанию False.\n",
    "    \n",
    "    Yields:\n",
    "        str: Сгенерированная строка с символом переноса строки в конце.\n",
    "    \"\"\"\n",
    "    # 1. Рассчитываем целевой размер в байтах\n",
    "    target_size_bytes = file_size * 1024 * 1024\n",
    "    generated_size_bytes = 0\n",
    "\n",
    "    # 2. Генерируем строки, пока не достигнем нужного размера\n",
    "    while generated_size_bytes < target_size_bytes:\n",
    "        # 3. Генерируем заданное количество слов\n",
    "        words = []\n",
    "        for _ in range(number_words):\n",
    "            word = ''.join(random.choice(type_symbols) for _ in range(number_symbols))\n",
    "            words.append(word)\n",
    "        \n",
    "        # 4. Соединяем слова в строку и добавляем символ переноса\n",
    "        line = ' '.join(words) + '\\n'\n",
    "        \n",
    "        # Используем .encode('utf-8') для точного подсчета байт,\n",
    "        # так как разные символы могут занимать разное место\n",
    "        line_bytes = len(line.encode('utf-8'))\n",
    "        \n",
    "        # 5. Отдаем сгенерированную строку\n",
    "        yield line\n",
    "        \n",
    "        # 6. Обновляем счетчик сгенерированных байт\n",
    "        generated_size_bytes += line_bytes\n",
    "\n",
    "        # 7. Отображаем статус выполнения, если это включено\n",
    "        if status:\n",
    "            progress = (generated_size_bytes / target_size_bytes) * 100\n",
    "            # Используем \\r для возврата курсора и перезаписи строки статуса\n",
    "            print(f'\\rПрогресс: {progress:.2f}%', end='', flush=True)\n",
    "            \n",
    "    if status:\n",
    "        print(f'\\rПрогресс: 100.00%') # Завершаем строку статуса\n",
    "\n",
    "    print(f'\\nИтоговый сгенерированный размер: {generated_size_bytes / 1024**2:.2f} Мб')\n",
    "\n"
   ]
  },
  {
   "cell_type": "code",
   "execution_count": null,
   "id": "80c71c4c-27e8-4f9c-bb13-a9eade1c8171",
   "metadata": {},
   "outputs": [],
   "source": [
    "target_mb = 2.5\n",
    "# Будем использовать буквы ASCII (прописные и строчные) и цифры\n",
    "symbols = string.ascii_letters + string.digits \n",
    "words_per_line = 15\n",
    "symbols_per_word = 10\n",
    "\n",
    "# --- Создание и использование генератора ---\n",
    "print(f\"Начинаем генерацию файла размером ~{target_mb} Мб...\")\n",
    "\n",
    "# Создаем сам генератор\n",
    "line_generator = lines_gen_fun_v2(\n",
    "    file_size=target_mb,\n",
    "    type_symbols=symbols,\n",
    "    number_words=words_per_line,\n",
    "    number_symbols=symbols_per_word,\n",
    "    status=True  # Включаем отображение прогресса\n",
    ")\n",
    "\n",
    "# --- Запись сгенерированных строк в файл для проверки ---\n",
    "output_filename = \"generated_output.txt\"\n",
    "with open(output_filename, 'w', encoding='utf-8') as f:\n",
    "    for line in line_generator:\n",
    "        f.write(line)\n",
    "\n",
    "print(f\"\\nФайл '{output_filename}' успешно создан.\")"
   ]
  },
  {
   "cell_type": "code",
   "execution_count": 43,
   "id": "011de857-2381-490e-b8da-745df619946f",
   "metadata": {},
   "outputs": [],
   "source": [
    "def file_gen(file_name: str, \n",
    "             file_size: int, \n",
    "             type_symbols: str='latin', \n",
    "             number_words: tuple=(10, 20), \n",
    "             number_symbols: tuple=(5, 10)):\n",
    "    \"\"\"\n",
    "    Создает файл заданного размера с генерируемым контентом и выводит статистику.\n",
    "\n",
    "    Аргументы:\n",
    "        file_name (str): Имя и путь к создаваемому файлу.\n",
    "        file_size (int): Желаемый размер файла в мегабайтах.\n",
    "        type_symbols (str, optional): Тип символов ('latin', 'cyrillic', 'digits'). \n",
    "                                      По умолчанию 'latin'.\n",
    "        number_words (tuple, optional): Диапазон (min, max) для количества слов в строке. \n",
    "                                        По умолчанию (10, 20).\n",
    "        number_symbols (tuple, optional): Диапазон (min, max) для количества символов в слове. \n",
    "                                          По умолчанию (5, 10).\n",
    "    \"\"\"\n",
    "    print(\"--- Начало генерации файла ---\")\n",
    "    start_time = time.time()\n",
    "\n",
    "    # 1. Определяем набор символов для генерации\n",
    "    symbols_map = {\n",
    "        'latin': string.ascii_letters,\n",
    "        'cyrillic': 'абвгдеёжзийклмнопрстуфхцчшщъыьэюяАБВГДЕЁЖЗИЙКЛМНОПРСТУФХЦЧШЩЪЫЬЭЮЯ',\n",
    "        'digits': string.digits\n",
    "    }\n",
    "    \n",
    "    if type_symbols not in symbols_map:\n",
    "        print(f\"Предупреждение: тип символов '{type_symbols}' не распознан. Используется 'latin'.\")\n",
    "        char_set = symbols_map['latin']\n",
    "    else:\n",
    "        char_set = symbols_map[type_symbols]\n",
    "    \n",
    "    # 2. Выбираем случайное количество слов и символов из заданных диапазонов\n",
    "    # Эти значения будут постоянными для всего процесса генерации одного файла\n",
    "    words_in_line = random.randint(number_words[0], number_words[1])\n",
    "    symbols_in_word = random.randint(number_symbols[0], number_symbols[1])\n",
    "    \n",
    "    print(f\"Параметры генерации: {words_in_line} слов/строка, {symbols_in_word} симв/слово.\")\n",
    "\n",
    "    # 3. Создаем генератор с вычисленными параметрами\n",
    "    line_generator = lines_gen_fun_v2(\n",
    "        file_size=file_size,\n",
    "        type_symbols=char_set,\n",
    "        number_words=words_in_line,\n",
    "        number_symbols=symbols_in_word,\n",
    "        status=True  # Включаем вывод процента выполнения\n",
    "    )\n",
    "\n",
    "    # 4. Записываем данные в файл\n",
    "    try:\n",
    "        with open(file_name, 'w', encoding='utf-8') as f:\n",
    "            for line in line_generator:\n",
    "                f.write(line)\n",
    "    except IOError as e:\n",
    "        print(f\"\\nОшибка при записи файла: {e}\")\n",
    "        return\n",
    "\n",
    "    # 5. Собираем и выводим итоговую статистику\n",
    "    end_time = time.time()\n",
    "    execution_time = end_time - start_time\n",
    "    \n",
    "    # Получаем фактический размер файла на диске для точности\n",
    "    actual_size_bytes = os.path.getsize(file_name)\n",
    "    actual_size_mb = actual_size_bytes / (1024 * 1024)\n",
    "\n",
    "    print(\"\\n\\n--- Генерация файла завершена ---\")\n",
    "    print(f\"Фактический размер файла: {actual_size_mb:.3f} Мб\")\n",
    "    print(f\"Время выполнения: {execution_time:.2f} секунд\")"
   ]
  },
  {
   "cell_type": "code",
   "execution_count": 44,
   "id": "33c2d8a8-291f-4266-b64c-df189acdf353",
   "metadata": {},
   "outputs": [
    {
     "name": "stdout",
     "output_type": "stream",
     "text": [
      "--- Начало генерации файла ---\n",
      "Параметры генерации: 10 слов/строка, 10 симв/слово.\n",
      "Прогресс: 6.29%"
     ]
    },
    {
     "name": "stderr",
     "output_type": "stream",
     "text": [
      "IOPub message rate exceeded.\n",
      "The Jupyter server will temporarily stop sending output\n",
      "to the client in order to avoid crashing it.\n",
      "To change this limit, set the config variable\n",
      "`--ServerApp.iopub_msg_rate_limit`.\n",
      "\n",
      "Current values:\n",
      "ServerApp.iopub_msg_rate_limit=1000.0 (msgs/sec)\n",
      "ServerApp.rate_limit_window=3.0 (secs)\n",
      "\n"
     ]
    },
    {
     "name": "stdout",
     "output_type": "stream",
     "text": [
      "Прогресс: 20.57%"
     ]
    },
    {
     "name": "stderr",
     "output_type": "stream",
     "text": [
      "IOPub message rate exceeded.\n",
      "The Jupyter server will temporarily stop sending output\n",
      "to the client in order to avoid crashing it.\n",
      "To change this limit, set the config variable\n",
      "`--ServerApp.iopub_msg_rate_limit`.\n",
      "\n",
      "Current values:\n",
      "ServerApp.iopub_msg_rate_limit=1000.0 (msgs/sec)\n",
      "ServerApp.rate_limit_window=3.0 (secs)\n",
      "\n"
     ]
    },
    {
     "name": "stdout",
     "output_type": "stream",
     "text": [
      "Прогресс: 29.69%"
     ]
    },
    {
     "name": "stderr",
     "output_type": "stream",
     "text": [
      "IOPub message rate exceeded.\n",
      "The Jupyter server will temporarily stop sending output\n",
      "to the client in order to avoid crashing it.\n",
      "To change this limit, set the config variable\n",
      "`--ServerApp.iopub_msg_rate_limit`.\n",
      "\n",
      "Current values:\n",
      "ServerApp.iopub_msg_rate_limit=1000.0 (msgs/sec)\n",
      "ServerApp.rate_limit_window=3.0 (secs)\n",
      "\n"
     ]
    },
    {
     "name": "stdout",
     "output_type": "stream",
     "text": [
      "Прогресс: 39.90%"
     ]
    },
    {
     "name": "stderr",
     "output_type": "stream",
     "text": [
      "IOPub message rate exceeded.\n",
      "The Jupyter server will temporarily stop sending output\n",
      "to the client in order to avoid crashing it.\n",
      "To change this limit, set the config variable\n",
      "`--ServerApp.iopub_msg_rate_limit`.\n",
      "\n",
      "Current values:\n",
      "ServerApp.iopub_msg_rate_limit=1000.0 (msgs/sec)\n",
      "ServerApp.rate_limit_window=3.0 (secs)\n",
      "\n"
     ]
    },
    {
     "name": "stdout",
     "output_type": "stream",
     "text": [
      "Прогресс: 51.38%"
     ]
    },
    {
     "name": "stderr",
     "output_type": "stream",
     "text": [
      "IOPub message rate exceeded.\n",
      "The Jupyter server will temporarily stop sending output\n",
      "to the client in order to avoid crashing it.\n",
      "To change this limit, set the config variable\n",
      "`--ServerApp.iopub_msg_rate_limit`.\n",
      "\n",
      "Current values:\n",
      "ServerApp.iopub_msg_rate_limit=1000.0 (msgs/sec)\n",
      "ServerApp.rate_limit_window=3.0 (secs)\n",
      "\n"
     ]
    },
    {
     "name": "stdout",
     "output_type": "stream",
     "text": [
      "Прогресс: 62.07%"
     ]
    },
    {
     "name": "stderr",
     "output_type": "stream",
     "text": [
      "IOPub message rate exceeded.\n",
      "The Jupyter server will temporarily stop sending output\n",
      "to the client in order to avoid crashing it.\n",
      "To change this limit, set the config variable\n",
      "`--ServerApp.iopub_msg_rate_limit`.\n",
      "\n",
      "Current values:\n",
      "ServerApp.iopub_msg_rate_limit=1000.0 (msgs/sec)\n",
      "ServerApp.rate_limit_window=3.0 (secs)\n",
      "\n"
     ]
    },
    {
     "name": "stdout",
     "output_type": "stream",
     "text": [
      "Прогресс: 70.61%"
     ]
    },
    {
     "name": "stderr",
     "output_type": "stream",
     "text": [
      "IOPub message rate exceeded.\n",
      "The Jupyter server will temporarily stop sending output\n",
      "to the client in order to avoid crashing it.\n",
      "To change this limit, set the config variable\n",
      "`--ServerApp.iopub_msg_rate_limit`.\n",
      "\n",
      "Current values:\n",
      "ServerApp.iopub_msg_rate_limit=1000.0 (msgs/sec)\n",
      "ServerApp.rate_limit_window=3.0 (secs)\n",
      "\n"
     ]
    },
    {
     "name": "stdout",
     "output_type": "stream",
     "text": [
      "Прогресс: 82.67%"
     ]
    },
    {
     "name": "stderr",
     "output_type": "stream",
     "text": [
      "IOPub message rate exceeded.\n",
      "The Jupyter server will temporarily stop sending output\n",
      "to the client in order to avoid crashing it.\n",
      "To change this limit, set the config variable\n",
      "`--ServerApp.iopub_msg_rate_limit`.\n",
      "\n",
      "Current values:\n",
      "ServerApp.iopub_msg_rate_limit=1000.0 (msgs/sec)\n",
      "ServerApp.rate_limit_window=3.0 (secs)\n",
      "\n"
     ]
    },
    {
     "name": "stdout",
     "output_type": "stream",
     "text": [
      "Прогресс: 94.30%"
     ]
    },
    {
     "name": "stderr",
     "output_type": "stream",
     "text": [
      "IOPub message rate exceeded.\n",
      "The Jupyter server will temporarily stop sending output\n",
      "to the client in order to avoid crashing it.\n",
      "To change this limit, set the config variable\n",
      "`--ServerApp.iopub_msg_rate_limit`.\n",
      "\n",
      "Current values:\n",
      "ServerApp.iopub_msg_rate_limit=1000.0 (msgs/sec)\n",
      "ServerApp.rate_limit_window=3.0 (secs)\n",
      "\n"
     ]
    }
   ],
   "source": [
    "if __name__ == \"__main__\":\n",
    "    # Пример 1: Генерация файла размером 5 Мб с латинскими символами\n",
    "    file_gen(\n",
    "        file_name=\"latin_data.txt\", \n",
    "        file_size=5,\n",
    "        type_symbols='latin',\n",
    "        number_words=(8, 15),\n",
    "        number_symbols=(6, 12)\n",
    "    )\n",
    "    \n",
    "    print(\"\\n\" + \"=\"*40 + \"\\n\")\n",
    "\n",
    "    # Пример 2: Генерация файла размером 3 Мб с кириллицей\n",
    "    file_gen(\n",
    "        file_name=\"cyrillic_data.txt\",\n",
    "        file_size=3,\n",
    "        type_symbols='cyrillic',\n",
    "        number_words=(20, 30), # Больше слов в строке\n",
    "        number_symbols=(4, 8)   # Но слова короче\n",
    "    )"
   ]
  },
  {
   "cell_type": "code",
   "execution_count": null,
   "id": "493ab36c-0a3f-4649-8e35-5f3044277353",
   "metadata": {},
   "outputs": [],
   "source": []
  }
 ],
 "metadata": {
  "kernelspec": {
   "display_name": "Python [conda env:base] *",
   "language": "python",
   "name": "conda-base-py"
  },
  "language_info": {
   "codemirror_mode": {
    "name": "ipython",
    "version": 3
   },
   "file_extension": ".py",
   "mimetype": "text/x-python",
   "name": "python",
   "nbconvert_exporter": "python",
   "pygments_lexer": "ipython3",
   "version": "3.12.7"
  }
 },
 "nbformat": 4,
 "nbformat_minor": 5
}
